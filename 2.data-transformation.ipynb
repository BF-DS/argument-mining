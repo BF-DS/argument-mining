{
 "cells": [
  {
   "cell_type": "code",
   "execution_count": 1,
   "metadata": {},
   "outputs": [],
   "source": [
    "import pandas as pd\n",
    "import os\n",
    "\n",
    "# eigene Module\n",
    "from src.dataimport import load_text, list_files_with_extension_directory\n",
    "from src.llmlib import num_tokens_from_string\n",
    "from src.anntransform import update_ann_file, transform_ann_to_json, count_origin_target_pairs, count_relation_types"
   ]
  },
  {
   "cell_type": "markdown",
   "metadata": {},
   "source": [
    "# Dateien laden"
   ]
  },
  {
   "cell_type": "code",
   "execution_count": 2,
   "metadata": {},
   "outputs": [],
   "source": [
    "FILES_PATH = 'data/original/brat-project-final/'"
   ]
  },
  {
   "cell_type": "code",
   "execution_count": 3,
   "metadata": {},
   "outputs": [
    {
     "data": {
      "text/plain": [
       "['data/original/brat-project-final/essay001.ann',\n",
       " 'data/original/brat-project-final/essay002.ann',\n",
       " 'data/original/brat-project-final/essay003.ann',\n",
       " 'data/original/brat-project-final/essay004.ann',\n",
       " 'data/original/brat-project-final/essay005.ann']"
      ]
     },
     "execution_count": 3,
     "metadata": {},
     "output_type": "execute_result"
    }
   ],
   "source": [
    "ann_files = list_files_with_extension_directory(FILES_PATH, '.ann')\n",
    "ann_files[:5]"
   ]
  },
  {
   "cell_type": "markdown",
   "metadata": {},
   "source": [
    "# IDs ändern\n",
    "Die Argumentationskomponenten wurden alle mit T als Präfix versehen. Die IDs der Argumentationskomponenten sollen nachfolgend geändert werden, sodass sie die nachfolgende IDs erhalten: \n",
    "- MC für MajorClaim (Hauptaussage)\n",
    "- C für Claim (Behauptung)\n",
    "- P für Premise (Prämisse)\n",
    "\n",
    "Die Änderung des Präfix soll auch in den Argumentationsbeziehungen vorgenommen werden. Die jeweiligen Komponenten werden fortlaufend nummeriert."
   ]
  },
  {
   "cell_type": "code",
   "execution_count": 4,
   "metadata": {},
   "outputs": [
    {
     "name": "stdout",
     "output_type": "stream",
     "text": [
      "MC1\tMajorClaim 503 575\twe should attach more importance to cooperation during primary education\n",
      "MC2\tMajorClaim 2154 2231\ta more cooperative attitudes towards life is more profitable in one's success\n",
      "C1\tClaim 591 714\tthrough cooperation, children can learn about interpersonal skills which are significant in the future life of all students\n",
      "A1\tStance C1 For\n",
      "P1\tPremise 716 851\tWhat we acquired from team work is not only how to achieve the same goal with others but more importantly, how to get along with others\n",
      "P2\tPremise 853 1086\tDuring the process of cooperation, children can learn about how to listen to opinions of others, how to communicate with others, how to think comprehensively, and even how to compromise with other team members when conflicts occurred\n",
      "P3\tPremise 1088 1191\tAll of these skills help them to get on well with other people and will benefit them for the whole life\n",
      "R1\tsupports Arg1:P1 Arg2:C1\t\n",
      "R2\tsupports Arg1:P2 Arg2:C1\t\n",
      "R3\tsupports Arg1:P3 Arg2:C1\t\n",
      "C2\tClaim 1332 1376\tcompetition makes the society more effective\n",
      "A2\tStance C2 Against\n",
      "P4\tPremise 1212 1301\tthe significance of competition is that how to become more excellence to gain the victory\n",
      "P5\tPremise 1387 1492\twhen we consider about the question that how to win the game, we always find that we need the cooperation\n",
      "P6\tPremise 1549 1846\tTake Olympic games which is a form of competition for instance, it is hard to imagine how an athlete could win the game without the training of his or her coach, and the help of other professional staffs such as the people who take care of his diet, and those who are in charge of the medical care\n",
      "C3\tClaim 1927 1992\twithout the cooperation, there would be no victory of competition\n",
      "A3\tStance C3 For\n",
      "R4\tsupports Arg1:P6 Arg2:C3\t\n",
      "R5\tsupports Arg1:P5 Arg2:C3\t\n",
      "R6\tsupports Arg1:P4 Arg2:C2\t\n"
     ]
    }
   ],
   "source": [
    "# Example usage\n",
    "input_text = load_text(ann_files[0])\n",
    "\n",
    "output_text = update_ann_file(input_text)\n",
    "print(output_text)"
   ]
  },
  {
   "cell_type": "code",
   "execution_count": 5,
   "metadata": {},
   "outputs": [],
   "source": [
    "new_path = 'data/transformed/'\n",
    "for file in ann_files:\n",
    "    input_text = load_text(file)\n",
    "    output_text = update_ann_file(input_text)\n",
    "    # Speichern der transformierten Dateien\n",
    "    with open(new_path + file.split('/')[-1], 'w') as f: # file.split('/')[-1] gibt den Dateinamen zurück\n",
    "        f.write(output_text)"
   ]
  },
  {
   "cell_type": "markdown",
   "metadata": {},
   "source": [
    "# Transformation zu JSON"
   ]
  },
  {
   "cell_type": "code",
   "execution_count": 6,
   "metadata": {},
   "outputs": [
    {
     "data": {
      "text/plain": [
       "['data/transformed/essay001.ann',\n",
       " 'data/transformed/essay002.ann',\n",
       " 'data/transformed/essay003.ann',\n",
       " 'data/transformed/essay004.ann',\n",
       " 'data/transformed/essay005.ann']"
      ]
     },
     "execution_count": 6,
     "metadata": {},
     "output_type": "execute_result"
    }
   ],
   "source": [
    "# Liste mit den transformierten .ann-Dateien\n",
    "transformed_ann_files = list_files_with_extension_directory(new_path, '.ann')\n",
    "transformed_ann_files[:5]"
   ]
  },
  {
   "cell_type": "code",
   "execution_count": 7,
   "metadata": {},
   "outputs": [
    {
     "name": "stdout",
     "output_type": "stream",
     "text": [
      "MC1\tMajorClaim 391 489\tthey are able to sustain their cultural identities and doing so help they keep their origin values\n",
      "MC2\tMajorClaim 1936 2077\tsustaining the traditions will make the immigrated people keep their cultural identity and give them confident among the many culture society\n",
      "P1\tPremise 500 624\tmaintaining one’s cultural identity is a key important rule to help individuals emerge in the new multicultural environments\n",
      "C1\tClaim 1089 1156\tsustaining the cultural values of immigrants is paramount essential\n",
      "A2\tStance C1 For\n",
      "P2\tPremise 626 839\tTake Australia for example, immigrants from varieties of nations have a day called multicultural day where people from each country prepare their food and traditional activities for displaying in the public venues\n",
      "P3\tPremise 841 946\tMany Australians come this day to enjoy the shows, learn about the cultures and admire the diverse values\n",
      "P4\tPremise 948 1057\tThese feedbacks, in turn, help raise one’s pride of their cultures and help people understand each other more\n",
      "P5\tPremise 1168 1204\tit is crucial to keep one’s identity\n",
      "P6\tPremise 1209 1307\tthey need a connection back to their country as well as teach their children their value of origin\n",
      "C2\tClaim 1711 1795\tkeeping the cultural traditions in the destination countries is tremendous important\n",
      "A4\tStance C2 For\n",
      "P7\tPremise 1323 1412\tchildren immigrated to a new country will face social troubles in school with new friends\n",
      "P8\tPremise 1414 1571\tIn this new environment, parent should find friends coming from their same country so that they can socialize in a very familiar manner as feeling being home\n",
      "P9\tPremise 1573 1685\tFail to create this familiarity makes them felt isolated, in the extreme can lead to social disorder like autism\n",
      "R6\tsupports Arg1:P6 Arg2:P5\t\n",
      "R11\tsupports Arg1:P7 Arg2:C2\t\n",
      "R12\tsupports Arg1:P8 Arg2:C2\t\n",
      "R13\tsupports Arg1:P9 Arg2:C2\t\n",
      "C3\tClaim 1819 1908\tthere are opposing ideas of neglecting one’s cultural values to adapt in the new cultures\n",
      "A5\tStance C3 Against\n",
      "R14\tsupports Arg1:P2 Arg2:C1\t\n",
      "R15\tsupports Arg1:P3 Arg2:C1\t\n",
      "R16\tsupports Arg1:P4 Arg2:C1\t\n",
      "R1\tsupports Arg1:P1 Arg2:C1\t\n",
      "R2\tsupports Arg1:P5 Arg2:C2\t\n"
     ]
    }
   ],
   "source": [
    "# Beispieldatei nach der Anpassung der IDs \n",
    "ann_transformed = load_text(transformed_ann_files[1])\n",
    "print(ann_transformed)"
   ]
  },
  {
   "cell_type": "code",
   "execution_count": 8,
   "metadata": {},
   "outputs": [],
   "source": [
    "# transformierte Dateien in JSON-Dateien umwandeln\n",
    "for file in transformed_ann_files:\n",
    "    input_text = load_text(file)\n",
    "    output_text = transform_ann_to_json(input_text)\n",
    "    # Speichern der transformierten Dateien\n",
    "    with open(new_path + file.split('/')[-1].replace('.ann', '.json'), 'w') as f: # Dateiendung .ann durch .json ersetzen\n",
    "        f.write(output_text)    "
   ]
  },
  {
   "cell_type": "code",
   "execution_count": 9,
   "metadata": {},
   "outputs": [
    {
     "data": {
      "text/plain": [
       "['data/transformed/essay001.json',\n",
       " 'data/transformed/essay002.json',\n",
       " 'data/transformed/essay003.json',\n",
       " 'data/transformed/essay004.json',\n",
       " 'data/transformed/essay005.json']"
      ]
     },
     "execution_count": 9,
     "metadata": {},
     "output_type": "execute_result"
    }
   ],
   "source": [
    "# Liste mit den transformierten .json-Dateien\n",
    "transformed_json_files = list_files_with_extension_directory(new_path, '.json')\n",
    "transformed_json_files[:5]"
   ]
  },
  {
   "cell_type": "code",
   "execution_count": 10,
   "metadata": {},
   "outputs": [
    {
     "name": "stdout",
     "output_type": "stream",
     "text": [
      "{\n",
      "  \"MajorClaims\": [\n",
      "    {\n",
      "      \"ID\": \"MC1\",\n",
      "      \"Text\": \"we should attach more importance to cooperation during primary education\"\n",
      "    },\n",
      "    {\n",
      "      \"ID\": \"MC2\",\n",
      "      \"Text\": \"a more cooperative attitudes towards life is more profitable in one's success\"\n",
      "    }\n",
      "  ],\n",
      "  \"Claims\": [\n",
      "    {\n",
      "      \"ID\": \"C1\",\n",
      "      \"Text\": \"through cooperation, children can learn about interpersonal skills which are significant in the future life of all students\"\n",
      "    },\n",
      "    {\n",
      "      \"ID\": \"C2\",\n",
      "      \"Text\": \"competition makes the society more effective\"\n",
      "    },\n",
      "    {\n",
      "      \"ID\": \"C3\",\n",
      "      \"Text\": \"without the cooperation, there would be no victory of competition\"\n",
      "    }\n",
      "  ],\n",
      "  \"Premises\": [\n",
      "    {\n",
      "      \"ID\": \"P1\",\n",
      "      \"Text\": \"What we acquired from team work is not only how to achieve the same goal with others but more importantly, how to get along with others\"\n",
      "    },\n",
      "    {\n",
      "      \"ID\": \"P2\",\n",
      "      \"Text\": \"During the process of cooperation, children can learn about how to listen to opinions of others, how to communicate with others, how to think comprehensively, and even how to compromise with other team members when conflicts occurred\"\n",
      "    },\n",
      "    {\n",
      "      \"ID\": \"P3\",\n",
      "      \"Text\": \"All of these skills help them to get on well with other people and will benefit them for the whole life\"\n",
      "    },\n",
      "    {\n",
      "      \"ID\": \"P4\",\n",
      "      \"Text\": \"the significance of competition is that how to become more excellence to gain the victory\"\n",
      "    },\n",
      "    {\n",
      "      \"ID\": \"P5\",\n",
      "      \"Text\": \"when we consider about the question that how to win the game, we always find that we need the cooperation\"\n",
      "    },\n",
      "    {\n",
      "      \"ID\": \"P6\",\n",
      "      \"Text\": \"Take Olympic games which is a form of competition for instance, it is hard to imagine how an athlete could win the game without the training of his or her coach, and the help of other professional staffs such as the people who take care of his diet, and those who are in charge of the medical care\"\n",
      "    }\n",
      "  ],\n",
      "  \"ArgumentativeRelations\": [\n",
      "    {\n",
      "      \"Origin\": \"C1\",\n",
      "      \"Relation\": \"For\",\n",
      "      \"Target\": \"MC\"\n",
      "    },\n",
      "    {\n",
      "      \"Origin\": \"P1\",\n",
      "      \"Relation\": \"supports\",\n",
      "      \"Target\": \"C1\"\n",
      "    },\n",
      "    {\n",
      "      \"Origin\": \"P2\",\n",
      "      \"Relation\": \"supports\",\n",
      "      \"Target\": \"C1\"\n",
      "    },\n",
      "    {\n",
      "      \"Origin\": \"P3\",\n",
      "      \"Relation\": \"supports\",\n",
      "      \"Target\": \"C1\"\n",
      "    },\n",
      "    {\n",
      "      \"Origin\": \"C2\",\n",
      "      \"Relation\": \"Against\",\n",
      "      \"Target\": \"MC\"\n",
      "    },\n",
      "    {\n",
      "      \"Origin\": \"C3\",\n",
      "      \"Relation\": \"For\",\n",
      "      \"Target\": \"MC\"\n",
      "    },\n",
      "    {\n",
      "      \"Origin\": \"P6\",\n",
      "      \"Relation\": \"supports\",\n",
      "      \"Target\": \"C3\"\n",
      "    },\n",
      "    {\n",
      "      \"Origin\": \"P5\",\n",
      "      \"Relation\": \"supports\",\n",
      "      \"Target\": \"C3\"\n",
      "    },\n",
      "    {\n",
      "      \"Origin\": \"P4\",\n",
      "      \"Relation\": \"supports\",\n",
      "      \"Target\": \"C2\"\n",
      "    }\n",
      "  ]\n",
      "}\n"
     ]
    }
   ],
   "source": [
    "# Beispieldatei nach der Transformation in JSON\n",
    "print(load_text(transformed_json_files[0]))"
   ]
  },
  {
   "cell_type": "code",
   "execution_count": 11,
   "metadata": {},
   "outputs": [
    {
     "data": {
      "text/html": [
       "<div>\n",
       "<style scoped>\n",
       "    .dataframe tbody tr th:only-of-type {\n",
       "        vertical-align: middle;\n",
       "    }\n",
       "\n",
       "    .dataframe tbody tr th {\n",
       "        vertical-align: top;\n",
       "    }\n",
       "\n",
       "    .dataframe thead th {\n",
       "        text-align: right;\n",
       "    }\n",
       "</style>\n",
       "<table border=\"1\" class=\"dataframe\">\n",
       "  <thead>\n",
       "    <tr style=\"text-align: right;\">\n",
       "      <th></th>\n",
       "      <th>File</th>\n",
       "      <th>NumTokens</th>\n",
       "    </tr>\n",
       "  </thead>\n",
       "  <tbody>\n",
       "    <tr>\n",
       "      <th>0</th>\n",
       "      <td>essay001.json</td>\n",
       "      <td>717</td>\n",
       "    </tr>\n",
       "    <tr>\n",
       "      <th>1</th>\n",
       "      <td>essay002.json</td>\n",
       "      <td>883</td>\n",
       "    </tr>\n",
       "    <tr>\n",
       "      <th>2</th>\n",
       "      <td>essay003.json</td>\n",
       "      <td>643</td>\n",
       "    </tr>\n",
       "    <tr>\n",
       "      <th>3</th>\n",
       "      <td>essay004.json</td>\n",
       "      <td>703</td>\n",
       "    </tr>\n",
       "    <tr>\n",
       "      <th>4</th>\n",
       "      <td>essay005.json</td>\n",
       "      <td>733</td>\n",
       "    </tr>\n",
       "  </tbody>\n",
       "</table>\n",
       "</div>"
      ],
      "text/plain": [
       "            File  NumTokens\n",
       "0  essay001.json        717\n",
       "1  essay002.json        883\n",
       "2  essay003.json        643\n",
       "3  essay004.json        703\n",
       "4  essay005.json        733"
      ]
     },
     "execution_count": 11,
     "metadata": {},
     "output_type": "execute_result"
    }
   ],
   "source": [
    "# Berechnung der Tokenanzahl in der JSON-Dateien\n",
    "json_data = []\n",
    "for file in transformed_json_files:\n",
    "    input_text = load_text(file)\n",
    "    file_name = os.path.basename(file)\n",
    "    num_tokens = num_tokens_from_string(input_text, 'gpt-4o-mini')\n",
    "    json_data.append({\"File\": file_name, \"NumTokens\": num_tokens})\n",
    "\n",
    "df = pd.DataFrame(json_data)\n",
    "df.head()"
   ]
  },
  {
   "cell_type": "code",
   "execution_count": 12,
   "metadata": {},
   "outputs": [
    {
     "data": {
      "text/html": [
       "<div>\n",
       "<style scoped>\n",
       "    .dataframe tbody tr th:only-of-type {\n",
       "        vertical-align: middle;\n",
       "    }\n",
       "\n",
       "    .dataframe tbody tr th {\n",
       "        vertical-align: top;\n",
       "    }\n",
       "\n",
       "    .dataframe thead th {\n",
       "        text-align: right;\n",
       "    }\n",
       "</style>\n",
       "<table border=\"1\" class=\"dataframe\">\n",
       "  <thead>\n",
       "    <tr style=\"text-align: right;\">\n",
       "      <th></th>\n",
       "      <th>NumTokens</th>\n",
       "    </tr>\n",
       "  </thead>\n",
       "  <tbody>\n",
       "    <tr>\n",
       "      <th>count</th>\n",
       "      <td>402.000000</td>\n",
       "    </tr>\n",
       "    <tr>\n",
       "      <th>mean</th>\n",
       "      <td>915.445274</td>\n",
       "    </tr>\n",
       "    <tr>\n",
       "      <th>std</th>\n",
       "      <td>214.888461</td>\n",
       "    </tr>\n",
       "    <tr>\n",
       "      <th>min</th>\n",
       "      <td>451.000000</td>\n",
       "    </tr>\n",
       "    <tr>\n",
       "      <th>25%</th>\n",
       "      <td>758.000000</td>\n",
       "    </tr>\n",
       "    <tr>\n",
       "      <th>50%</th>\n",
       "      <td>886.000000</td>\n",
       "    </tr>\n",
       "    <tr>\n",
       "      <th>75%</th>\n",
       "      <td>1057.750000</td>\n",
       "    </tr>\n",
       "    <tr>\n",
       "      <th>max</th>\n",
       "      <td>1620.000000</td>\n",
       "    </tr>\n",
       "  </tbody>\n",
       "</table>\n",
       "</div>"
      ],
      "text/plain": [
       "         NumTokens\n",
       "count   402.000000\n",
       "mean    915.445274\n",
       "std     214.888461\n",
       "min     451.000000\n",
       "25%     758.000000\n",
       "50%     886.000000\n",
       "75%    1057.750000\n",
       "max    1620.000000"
      ]
     },
     "execution_count": 12,
     "metadata": {},
     "output_type": "execute_result"
    }
   ],
   "source": [
    "df.describe()"
   ]
  },
  {
   "cell_type": "code",
   "execution_count": 13,
   "metadata": {},
   "outputs": [
    {
     "data": {
      "text/html": [
       "<div>\n",
       "<style scoped>\n",
       "    .dataframe tbody tr th:only-of-type {\n",
       "        vertical-align: middle;\n",
       "    }\n",
       "\n",
       "    .dataframe tbody tr th {\n",
       "        vertical-align: top;\n",
       "    }\n",
       "\n",
       "    .dataframe thead th {\n",
       "        text-align: right;\n",
       "    }\n",
       "</style>\n",
       "<table border=\"1\" class=\"dataframe\">\n",
       "  <thead>\n",
       "    <tr style=\"text-align: right;\">\n",
       "      <th></th>\n",
       "      <th>C</th>\n",
       "      <th>P</th>\n",
       "      <th>M</th>\n",
       "    </tr>\n",
       "  </thead>\n",
       "  <tbody>\n",
       "    <tr>\n",
       "      <th>Origin</th>\n",
       "      <td>1506.0</td>\n",
       "      <td>3832.0</td>\n",
       "      <td>NaN</td>\n",
       "    </tr>\n",
       "    <tr>\n",
       "      <th>Target</th>\n",
       "      <td>3108.0</td>\n",
       "      <td>724.0</td>\n",
       "      <td>1506.0</td>\n",
       "    </tr>\n",
       "  </tbody>\n",
       "</table>\n",
       "</div>"
      ],
      "text/plain": [
       "             C       P       M\n",
       "Origin  1506.0  3832.0     NaN\n",
       "Target  3108.0   724.0  1506.0"
      ]
     },
     "execution_count": 13,
     "metadata": {},
     "output_type": "execute_result"
    }
   ],
   "source": [
    "# Anzahl der Beziehungen pro Typ bestimmen für alle JSON-Dateien\n",
    "df = count_relation_types(transformed_json_files)\n",
    "df.T"
   ]
  },
  {
   "cell_type": "code",
   "execution_count": 14,
   "metadata": {},
   "outputs": [
    {
     "data": {
      "text/html": [
       "<div>\n",
       "<style scoped>\n",
       "    .dataframe tbody tr th:only-of-type {\n",
       "        vertical-align: middle;\n",
       "    }\n",
       "\n",
       "    .dataframe tbody tr th {\n",
       "        vertical-align: top;\n",
       "    }\n",
       "\n",
       "    .dataframe thead th {\n",
       "        text-align: right;\n",
       "    }\n",
       "</style>\n",
       "<table border=\"1\" class=\"dataframe\">\n",
       "  <thead>\n",
       "    <tr style=\"text-align: right;\">\n",
       "      <th></th>\n",
       "      <th>Origin-Target Pair</th>\n",
       "      <th>Count</th>\n",
       "    </tr>\n",
       "  </thead>\n",
       "  <tbody>\n",
       "    <tr>\n",
       "      <th>1</th>\n",
       "      <td>(P, C)</td>\n",
       "      <td>3108</td>\n",
       "    </tr>\n",
       "    <tr>\n",
       "      <th>0</th>\n",
       "      <td>(C, M)</td>\n",
       "      <td>1506</td>\n",
       "    </tr>\n",
       "    <tr>\n",
       "      <th>2</th>\n",
       "      <td>(P, P)</td>\n",
       "      <td>724</td>\n",
       "    </tr>\n",
       "  </tbody>\n",
       "</table>\n",
       "</div>"
      ],
      "text/plain": [
       "  Origin-Target Pair  Count\n",
       "1             (P, C)   3108\n",
       "0             (C, M)   1506\n",
       "2             (P, P)    724"
      ]
     },
     "execution_count": 14,
     "metadata": {},
     "output_type": "execute_result"
    }
   ],
   "source": [
    "# Anzahl der Origin-Target-Paare bestimmen für alle JSON-Dateien\n",
    "df = count_origin_target_pairs(transformed_json_files)\n",
    "df"
   ]
  }
 ],
 "metadata": {
  "kernelspec": {
   "display_name": "masterarbeit_bfels",
   "language": "python",
   "name": "python3"
  },
  "language_info": {
   "codemirror_mode": {
    "name": "ipython",
    "version": 3
   },
   "file_extension": ".py",
   "mimetype": "text/x-python",
   "name": "python",
   "nbconvert_exporter": "python",
   "pygments_lexer": "ipython3",
   "version": "3.12.6"
  }
 },
 "nbformat": 4,
 "nbformat_minor": 2
}
