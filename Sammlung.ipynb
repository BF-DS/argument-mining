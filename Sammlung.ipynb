{
 "cells": [
  {
   "cell_type": "markdown",
   "metadata": {},
   "source": [
    "In diesem Notebook werden wird der Code gesammelt, der für die finale Abgabe der Masterarbeit nicht relevant ist, aber dennoch interessant sein könnte. "
   ]
  },
  {
   "cell_type": "code",
   "execution_count": null,
   "metadata": {},
   "outputs": [],
   "source": [
    "import pandas as pd\n",
    "import json\n",
    "\n",
    "#eigene Module\n",
    "from src.dataimport import load_text\n"
   ]
  },
  {
   "cell_type": "markdown",
   "metadata": {},
   "source": [
    "# JSON zu Pandas Dataframes\n",
    "MajorClaims, Claims, Premises und Argumentationsbeziehungen werden in einzelne Dataframes umgewandelt. "
   ]
  },
  {
   "cell_type": "code",
   "execution_count": null,
   "metadata": {},
   "outputs": [],
   "source": [
    "def json_to_dataframe(json_data):\n",
    "    data = json.loads(json_data)\n",
    "    # Create a DataFrame for MajorClaims\n",
    "    major_claims_df = pd.DataFrame(data[\"MajorClaims\"])\n",
    "    major_claims_df[\"Type\"] = \"MajorClaim\"\n",
    "    # Create a DataFrame for Claims\n",
    "    claims_df = pd.DataFrame(data[\"Claims\"])\n",
    "    claims_df[\"Type\"] = \"Claim\"\n",
    "    # Create a DataFrame for Premises\n",
    "    premises_df = pd.DataFrame(data[\"Premises\"])\n",
    "    premises_df[\"Type\"] = \"Premise\"\n",
    "    # Create a DataFrame for ArgumentativeRelations\n",
    "    relations_df = pd.DataFrame(data[\"ArgumentativeRelations\"])\n",
    "\n",
    "    # for relations df calculate the types\n",
    "    relations_df[\"OriginType\"] = relations_df[\"Origin\"].apply(lambda x: x[0])\n",
    "    relations_df[\"TargetType\"] = relations_df[\"Target\"].apply(lambda x: x[0])\n",
    "\n",
    "    return major_claims_df, claims_df, premises_df, relations_df\n",
    "\n",
    "# Example usage\n",
    "json_data = load_text(transformed_json_files[0])\n",
    "\n",
    "major_claims_df, claims_df, premises_df, relations_df = json_to_dataframe(json_data)\n"
   ]
  },
  {
   "cell_type": "markdown",
   "metadata": {},
   "source": [
    "```python\n",
    "major_claims_df\n",
    "\n",
    "ID\tText\tType\n",
    "0\tMC1\twe should attach more importance to cooperatio...\tMajorClaim\n",
    "1\tMC2\ta more cooperative attitudes towards life is m...\tMajorClaim\n",
    "\n",
    "\n",
    "claims_df\n",
    "\n",
    "ID\tText\tType\n",
    "0\tC1\tthrough cooperation, children can learn about ...\tClaim\n",
    "1\tC2\tcompetition makes the society more effective\tClaim\n",
    "2\tC3\twithout the cooperation, there would be no vic...\tClaim\n",
    "\n",
    "\n",
    "premises_df\n",
    "\n",
    "ID\tText\tType\n",
    "0\tP1\tWhat we acquired from team work is not only ho...\tPremise\n",
    "1\tP2\tDuring the process of cooperation, children ca...\tPremise\n",
    "2\tP3\tAll of these skills help them to get on well w...\tPremise\n",
    "3\tP4\tthe significance of competition is that how to...\tPremise\n",
    "4\tP5\twhen we consider about the question that how t...\tPremise\n",
    "5\tP6\tTake Olympic games which is a form of competit...\tPremise\n",
    "\n",
    "\n",
    "relations_df\n",
    "\n",
    "Origin\tRelation\tTarget\tOriginType\n",
    "0\tC1\tFor\tMC\tC\n",
    "1\tP1\tsupports\tC1\tP\n",
    "2\tP2\tsupports\tC1\tP\n",
    "3\tP3\tsupports\tC1\tP\n",
    "4\tC2\tAgainst\tMC\tC\n",
    "5\tC3\tFor\tMC\tC\n",
    "6\tP6\tsupports\tC3\tP\n",
    "7\tP5\tsupports\tC3\tP\n",
    "8\tP4\tsupports\tC2\tP\n",
    "```"
   ]
  }
 ],
 "metadata": {
  "language_info": {
   "name": "python"
  }
 },
 "nbformat": 4,
 "nbformat_minor": 2
}
