{
 "cells": [
  {
   "cell_type": "code",
   "execution_count": null,
   "metadata": {},
   "outputs": [],
   "source": [
    "import nltk\n",
    "from nltk.translate.bleu_score import sentence_bleu"
   ]
  },
  {
   "cell_type": "code",
   "execution_count": null,
   "metadata": {},
   "outputs": [
    {
     "name": "stdout",
     "output_type": "stream",
     "text": [
      "BLEU Score:  1.0\n"
     ]
    }
   ],
   "source": [
    "# Prepare the reference sentences\n",
    "reference1 = ['I', 'love', 'eating', 'ice', 'cream']\n",
    "reference2 = ['I', 'enjoy', 'eating', 'ice', 'cream']\n",
    "\n",
    "# Prepare the candidate sentence\n",
    "translation = ['I', 'love', 'eating', 'ice', 'cream']\n",
    "\n",
    "# Calculate the BLEU score for a single sentence\n",
    "bleu_score = sentence_bleu([reference1, reference2], translation)\n",
    "print(\"BLEU Score: \", bleu_score)\n"
   ]
  }
 ],
 "metadata": {
  "kernelspec": {
   "display_name": "llm",
   "language": "python",
   "name": "python3"
  },
  "language_info": {
   "codemirror_mode": {
    "name": "ipython",
    "version": 3
   },
   "file_extension": ".py",
   "mimetype": "text/x-python",
   "name": "python",
   "nbconvert_exporter": "python",
   "pygments_lexer": "ipython3",
   "version": "3.12.6"
  }
 },
 "nbformat": 4,
 "nbformat_minor": 2
}
