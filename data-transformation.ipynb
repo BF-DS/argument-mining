{
 "cells": [
  {
   "cell_type": "code",
   "execution_count": 1,
   "metadata": {},
   "outputs": [],
   "source": [
    "import re\n",
    "import json\n",
    "import pandas as pd\n",
    "\n",
    "from src.dataimport import load_text, list_files_with_extension_directory"
   ]
  },
  {
   "cell_type": "markdown",
   "metadata": {},
   "source": [
    "# Dateien laden"
   ]
  },
  {
   "cell_type": "code",
   "execution_count": 2,
   "metadata": {},
   "outputs": [],
   "source": [
    "FILES_PATH = 'data/original/brat-project-final/'"
   ]
  },
  {
   "cell_type": "code",
   "execution_count": 3,
   "metadata": {},
   "outputs": [
    {
     "data": {
      "text/plain": [
       "['data/original/brat-project-final/essay001.ann',\n",
       " 'data/original/brat-project-final/essay002.ann',\n",
       " 'data/original/brat-project-final/essay003.ann',\n",
       " 'data/original/brat-project-final/essay004.ann',\n",
       " 'data/original/brat-project-final/essay005.ann']"
      ]
     },
     "execution_count": 3,
     "metadata": {},
     "output_type": "execute_result"
    }
   ],
   "source": [
    "ann_files = list_files_with_extension_directory(FILES_PATH, '.ann')\n",
    "ann_files[:5]"
   ]
  },
  {
   "cell_type": "markdown",
   "metadata": {},
   "source": [
    "# IDs ändern\n",
    "Die Argumentationskomponenten wurden alle mit T als Präfix versehen. Die IDs der Argumentationskomponenten sollen nachfolgend geändert werden. Die Argumentationskomponenten sollen folgende IDs erhalten: \n",
    "- MC für MajorClaim\n",
    "- C für Claim\n",
    "- P für Premise\n",
    "\n",
    "Die Änderung des Präfix soll auch in den Argumentationsbeziehungen vorgenommen werden. Die jeweiligen Komponenten werden fortlaufend nummeriert."
   ]
  },
  {
   "cell_type": "code",
   "execution_count": 4,
   "metadata": {},
   "outputs": [],
   "source": [
    "def update_ann_file(input_text):\n",
    "    # Define patterns\n",
    "    pattern_unit = r\"^(T\\d+)\\s+(MajorClaim|Claim|Premise)\" # explanation: ^ start of line, T\\d+ T followed by digits, \\s+ one or more spaces, (MajorClaim|Claim|Premise) one of the three types\n",
    "    pattern_relation = r\"^(R\\d+)\\s+\\w+ Arg1:(T\\d+) Arg2:(T\\d+)\" # explanation: ^ start of line, R\\d+ R followed by digits, \\s+ one or more spaces, \\w+ one or more word characters, Arg1:T\\d+ Arg2:T\\d+ Arg1 and Arg2 followed by T and digits\n",
    "    pattern_stance = r\"^(A\\d+)\\s+Stance (T\\d+)\" # explanation: ^ start of line, A\\d+ A followed by digits, \\s+ one or more spaces, Stance, T\\d+ T followed by digits\n",
    "\n",
    "    # Counters for each type, to assign new IDs\n",
    "    counters = {\"MajorClaim\": 1, \"Claim\": 1, \"Premise\": 1}\n",
    "    \n",
    "    # Mapping from old to new IDs\n",
    "    id_mapping = {} # key: old ID, value: new ID\n",
    "\n",
    "    output_lines = [] # List to store the updated lines\n",
    "\n",
    "    for line in input_text.splitlines():\n",
    "        # Match argumentative units\n",
    "        match_unit = re.match(pattern_unit, line)\n",
    "        if match_unit:\n",
    "            old_id, unit_type = match_unit.groups()\n",
    "            prefix = {\"MajorClaim\": \"MC\", \"Claim\": \"C\", \"Premise\": \"P\"}[unit_type]\n",
    "            new_id = f\"{prefix}{counters[unit_type]}\"\n",
    "            counters[unit_type] += 1\n",
    "            id_mapping[old_id] = new_id\n",
    "\n",
    "            # Replace old ID with new ID in the line\n",
    "            line = line.replace(old_id, new_id, 1)\n",
    "\n",
    "        # Match relations\n",
    "        match_relation = re.match(pattern_relation, line)\n",
    "        if match_relation:\n",
    "            old_rel_id, arg1, arg2 = match_relation.groups()\n",
    "            new_arg1 = id_mapping.get(arg1, arg1)\n",
    "            new_arg2 = id_mapping.get(arg2, arg2)\n",
    "\n",
    "            # Replace Arg1 and Arg2 IDs in the line\n",
    "            line = re.sub(rf\"Arg1:{arg1}\", f\"Arg1:{new_arg1}\", line)\n",
    "            line = re.sub(rf\"Arg2:{arg2}\", f\"Arg2:{new_arg2}\", line)\n",
    "\n",
    "        # Match stances\n",
    "        match_stance = re.match(pattern_stance, line)\n",
    "        if match_stance:\n",
    "            old_a_id, target_id = match_stance.groups()\n",
    "            new_target_id = id_mapping.get(target_id, target_id)\n",
    "\n",
    "            # Replace target ID in the line\n",
    "            line = re.sub(rf\"Stance {target_id}\", f\"Stance {new_target_id}\", line)\n",
    "\n",
    "        output_lines.append(line)\n",
    "\n",
    "    return \"\\n\".join(output_lines)"
   ]
  },
  {
   "cell_type": "code",
   "execution_count": 5,
   "metadata": {},
   "outputs": [
    {
     "name": "stdout",
     "output_type": "stream",
     "text": [
      "MC1\tMajorClaim 503 575\twe should attach more importance to cooperation during primary education\n",
      "MC2\tMajorClaim 2154 2231\ta more cooperative attitudes towards life is more profitable in one's success\n",
      "C1\tClaim 591 714\tthrough cooperation, children can learn about interpersonal skills which are significant in the future life of all students\n",
      "A1\tStance C1 For\n",
      "P1\tPremise 716 851\tWhat we acquired from team work is not only how to achieve the same goal with others but more importantly, how to get along with others\n",
      "P2\tPremise 853 1086\tDuring the process of cooperation, children can learn about how to listen to opinions of others, how to communicate with others, how to think comprehensively, and even how to compromise with other team members when conflicts occurred\n",
      "P3\tPremise 1088 1191\tAll of these skills help them to get on well with other people and will benefit them for the whole life\n",
      "R1\tsupports Arg1:P1 Arg2:C1\t\n",
      "R2\tsupports Arg1:P2 Arg2:C1\t\n",
      "R3\tsupports Arg1:P3 Arg2:C1\t\n",
      "C2\tClaim 1332 1376\tcompetition makes the society more effective\n",
      "A2\tStance C2 Against\n",
      "P4\tPremise 1212 1301\tthe significance of competition is that how to become more excellence to gain the victory\n",
      "P5\tPremise 1387 1492\twhen we consider about the question that how to win the game, we always find that we need the cooperation\n",
      "P6\tPremise 1549 1846\tTake Olympic games which is a form of competition for instance, it is hard to imagine how an athlete could win the game without the training of his or her coach, and the help of other professional staffs such as the people who take care of his diet, and those who are in charge of the medical care\n",
      "C3\tClaim 1927 1992\twithout the cooperation, there would be no victory of competition\n",
      "A3\tStance C3 For\n",
      "R4\tsupports Arg1:P6 Arg2:C3\t\n",
      "R5\tsupports Arg1:P5 Arg2:C3\t\n",
      "R6\tsupports Arg1:P4 Arg2:C2\t\n"
     ]
    }
   ],
   "source": [
    "# Example usage\n",
    "input_text = load_text(ann_files[0])\n",
    "\n",
    "output_text = update_ann_file(input_text)\n",
    "print(output_text)"
   ]
  },
  {
   "cell_type": "code",
   "execution_count": 6,
   "metadata": {},
   "outputs": [],
   "source": [
    "new_path = 'data/transformed/'\n",
    "for file in ann_files:\n",
    "    input_text = load_text(file)\n",
    "    output_text = update_ann_file(input_text)\n",
    "    # save the updated file to a new location\n",
    "    with open(new_path + file.split('/')[-1], 'w') as f: # file.split('/')[-1] gets the last part of the path, which is the file name\n",
    "        f.write(output_text)"
   ]
  },
  {
   "cell_type": "markdown",
   "metadata": {},
   "source": [
    "# Transformation zu JSON"
   ]
  },
  {
   "cell_type": "code",
   "execution_count": 7,
   "metadata": {},
   "outputs": [
    {
     "data": {
      "text/plain": [
       "['data/transformed/essay001.ann',\n",
       " 'data/transformed/essay002.ann',\n",
       " 'data/transformed/essay003.ann',\n",
       " 'data/transformed/essay004.ann',\n",
       " 'data/transformed/essay005.ann']"
      ]
     },
     "execution_count": 7,
     "metadata": {},
     "output_type": "execute_result"
    }
   ],
   "source": [
    "transformed_ann_files = list_files_with_extension_directory(new_path, '.ann')\n",
    "transformed_ann_files[:5]"
   ]
  },
  {
   "cell_type": "code",
   "execution_count": 8,
   "metadata": {},
   "outputs": [
    {
     "name": "stdout",
     "output_type": "stream",
     "text": [
      "MC1\tMajorClaim 391 489\tthey are able to sustain their cultural identities and doing so help they keep their origin values\n",
      "MC2\tMajorClaim 1936 2077\tsustaining the traditions will make the immigrated people keep their cultural identity and give them confident among the many culture society\n",
      "P1\tPremise 500 624\tmaintaining one’s cultural identity is a key important rule to help individuals emerge in the new multicultural environments\n",
      "C1\tClaim 1089 1156\tsustaining the cultural values of immigrants is paramount essential\n",
      "A2\tStance C1 For\n",
      "P2\tPremise 626 839\tTake Australia for example, immigrants from varieties of nations have a day called multicultural day where people from each country prepare their food and traditional activities for displaying in the public venues\n",
      "P3\tPremise 841 946\tMany Australians come this day to enjoy the shows, learn about the cultures and admire the diverse values\n",
      "P4\tPremise 948 1057\tThese feedbacks, in turn, help raise one’s pride of their cultures and help people understand each other more\n",
      "P5\tPremise 1168 1204\tit is crucial to keep one’s identity\n",
      "P6\tPremise 1209 1307\tthey need a connection back to their country as well as teach their children their value of origin\n",
      "C2\tClaim 1711 1795\tkeeping the cultural traditions in the destination countries is tremendous important\n",
      "A4\tStance C2 For\n",
      "P7\tPremise 1323 1412\tchildren immigrated to a new country will face social troubles in school with new friends\n",
      "P8\tPremise 1414 1571\tIn this new environment, parent should find friends coming from their same country so that they can socialize in a very familiar manner as feeling being home\n",
      "P9\tPremise 1573 1685\tFail to create this familiarity makes them felt isolated, in the extreme can lead to social disorder like autism\n",
      "R6\tsupports Arg1:P6 Arg2:P5\t\n",
      "R11\tsupports Arg1:P7 Arg2:C2\t\n",
      "R12\tsupports Arg1:P8 Arg2:C2\t\n",
      "R13\tsupports Arg1:P9 Arg2:C2\t\n",
      "C3\tClaim 1819 1908\tthere are opposing ideas of neglecting one’s cultural values to adapt in the new cultures\n",
      "A5\tStance C3 Against\n",
      "R14\tsupports Arg1:P2 Arg2:C1\t\n",
      "R15\tsupports Arg1:P3 Arg2:C1\t\n",
      "R16\tsupports Arg1:P4 Arg2:C1\t\n",
      "R1\tsupports Arg1:P1 Arg2:C1\t\n",
      "R2\tsupports Arg1:P5 Arg2:C2\t\n"
     ]
    }
   ],
   "source": [
    "ann_transformed = load_text(transformed_ann_files[1])\n",
    "print(ann_transformed)"
   ]
  },
  {
   "cell_type": "code",
   "execution_count": 15,
   "metadata": {},
   "outputs": [
    {
     "name": "stdout",
     "output_type": "stream",
     "text": [
      "{\n",
      "  \"MajorClaims\": {\n",
      "    \"MC1\": \"they are able to sustain their cultural identities and doing so help they keep their origin values\",\n",
      "    \"MC2\": \"sustaining the traditions will make the immigrated people keep their cultural identity and give them confident among the many culture society\"\n",
      "  },\n",
      "  \"Claims\": {\n",
      "    \"C1\": \"sustaining the cultural values of immigrants is paramount essential\",\n",
      "    \"C2\": \"keeping the cultural traditions in the destination countries is tremendous important\",\n",
      "    \"C3\": \"there are opposing ideas of neglecting one\\u2019s cultural values to adapt in the new cultures\"\n",
      "  },\n",
      "  \"Premises\": {\n",
      "    \"P1\": \"maintaining one\\u2019s cultural identity is a key important rule to help individuals emerge in the new multicultural environments\",\n",
      "    \"P2\": \"Take Australia for example, immigrants from varieties of nations have a day called multicultural day where people from each country prepare their food and traditional activities for displaying in the public venues\",\n",
      "    \"P3\": \"Many Australians come this day to enjoy the shows, learn about the cultures and admire the diverse values\",\n",
      "    \"P4\": \"These feedbacks, in turn, help raise one\\u2019s pride of their cultures and help people understand each other more\",\n",
      "    \"P5\": \"it is crucial to keep one\\u2019s identity\",\n",
      "    \"P6\": \"they need a connection back to their country as well as teach their children their value of origin\",\n",
      "    \"P7\": \"children immigrated to a new country will face social troubles in school with new friends\",\n",
      "    \"P8\": \"In this new environment, parent should find friends coming from their same country so that they can socialize in a very familiar manner as feeling being home\",\n",
      "    \"P9\": \"Fail to create this familiarity makes them felt isolated, in the extreme can lead to social disorder like autism\"\n",
      "  },\n",
      "  \"ArgumentativeRelations\": [\n",
      "    {\n",
      "      \"Claim\": \"C1\",\n",
      "      \"Relation\": \"For\",\n",
      "      \"Target\": \"MC\"\n",
      "    },\n",
      "    {\n",
      "      \"Claim\": \"C2\",\n",
      "      \"Relation\": \"For\",\n",
      "      \"Target\": \"MC\"\n",
      "    },\n",
      "    {\n",
      "      \"Claim\": \"P6\",\n",
      "      \"Relation\": \"supports\",\n",
      "      \"Target\": \"P5\"\n",
      "    },\n",
      "    {\n",
      "      \"Claim\": \"P7\",\n",
      "      \"Relation\": \"supports\",\n",
      "      \"Target\": \"C2\"\n",
      "    },\n",
      "    {\n",
      "      \"Claim\": \"P8\",\n",
      "      \"Relation\": \"supports\",\n",
      "      \"Target\": \"C2\"\n",
      "    },\n",
      "    {\n",
      "      \"Claim\": \"P9\",\n",
      "      \"Relation\": \"supports\",\n",
      "      \"Target\": \"C2\"\n",
      "    },\n",
      "    {\n",
      "      \"Claim\": \"C3\",\n",
      "      \"Relation\": \"Against\",\n",
      "      \"Target\": \"MC\"\n",
      "    },\n",
      "    {\n",
      "      \"Claim\": \"P2\",\n",
      "      \"Relation\": \"supports\",\n",
      "      \"Target\": \"C1\"\n",
      "    },\n",
      "    {\n",
      "      \"Claim\": \"P3\",\n",
      "      \"Relation\": \"supports\",\n",
      "      \"Target\": \"C1\"\n",
      "    },\n",
      "    {\n",
      "      \"Claim\": \"P4\",\n",
      "      \"Relation\": \"supports\",\n",
      "      \"Target\": \"C1\"\n",
      "    },\n",
      "    {\n",
      "      \"Claim\": \"P1\",\n",
      "      \"Relation\": \"supports\",\n",
      "      \"Target\": \"C1\"\n",
      "    },\n",
      "    {\n",
      "      \"Claim\": \"P5\",\n",
      "      \"Relation\": \"supports\",\n",
      "      \"Target\": \"C2\"\n",
      "    }\n",
      "  ]\n",
      "}\n"
     ]
    }
   ],
   "source": [
    "def transform_text_to_json(text):\n",
    "    data = {\n",
    "        \"MajorClaims\": {},\n",
    "        \"Claims\": {},\n",
    "        \"Premises\": {},\n",
    "        \"ArgumentativeRelations\": []\n",
    "    }\n",
    "    # Split the input text into lines\n",
    "    lines = text.strip().split('\\n')\n",
    "    # Process each line to extract relevant information\n",
    "    for line in lines:\n",
    "        parts = line.split()\n",
    "        # Check if the line defines a MajorClaim\n",
    "        if parts[0].startswith('MC'):\n",
    "            data[\"MajorClaims\"][parts[0]] = ' '.join(parts[4:]) # parts[0] is the ID, parts[4:] is the text\n",
    "        # Check if the line defines a Claim\n",
    "        elif parts[0].startswith('C'):\n",
    "            data[\"Claims\"][parts[0]] = ' '.join(parts[4:])\n",
    "        # Check if the line defines a Premise\n",
    "        elif parts[0].startswith('P'):\n",
    "            data[\"Premises\"][parts[0]] = ' '.join(parts[4:])\n",
    "        # Check if the line defines an Argumentative Relation\n",
    "        elif parts[0].startswith('R'):\n",
    "            data[\"ArgumentativeRelations\"].append({\n",
    "                \"Claim\": parts[2].split(':')[1],\n",
    "                \"Relation\": parts[1],\n",
    "                \"Target\": parts[3].split(':')[1]\n",
    "            })\n",
    "        # Check if the line defines a Stance\n",
    "        elif parts[0].startswith('A'):\n",
    "            data[\"ArgumentativeRelations\"].append({\n",
    "                \"Claim\": parts[2],\n",
    "                \"Relation\": parts[3],\n",
    "                \"Target\": \"MC\"\n",
    "            })\n",
    "\n",
    "    return json.dumps(data, indent=2)   # dumps() function converts a Python object into a JSON string. \n",
    "                                        # indent is used to format the JSON output for better readability\n",
    "\n",
    "\n",
    "print(transform_text_to_json(ann_transformed))"
   ]
  },
  {
   "cell_type": "code",
   "execution_count": 11,
   "metadata": {},
   "outputs": [],
   "source": [
    "# use function to transform all files\n",
    "for file in transformed_ann_files:\n",
    "    input_text = load_text(file)\n",
    "    output_text = transform_text_to_json(input_text)\n",
    "    # save the updated file to a new location\n",
    "    with open(new_path + file.split('/')[-1].replace('.ann', '.json'), 'w') as f:\n",
    "        f.write(output_text)    "
   ]
  },
  {
   "cell_type": "code",
   "execution_count": 12,
   "metadata": {},
   "outputs": [
    {
     "data": {
      "text/plain": [
       "['data/transformed/essay001.json',\n",
       " 'data/transformed/essay002.json',\n",
       " 'data/transformed/essay003.json',\n",
       " 'data/transformed/essay004.json',\n",
       " 'data/transformed/essay005.json']"
      ]
     },
     "execution_count": 12,
     "metadata": {},
     "output_type": "execute_result"
    }
   ],
   "source": [
    "# view example of transformed json file\n",
    "transformed_json_files = list_files_with_extension_directory(new_path, '.json')\n",
    "transformed_json_files[:5]"
   ]
  },
  {
   "cell_type": "code",
   "execution_count": 13,
   "metadata": {},
   "outputs": [
    {
     "name": "stdout",
     "output_type": "stream",
     "text": [
      "{\n",
      "    \"MajorClaims\": {\n",
      "        \"MC1\": \"we should attach more importance to cooperation during primary education\",\n",
      "        \"MC2\": \"a more cooperative attitudes towards life is more profitable in one's success\"\n",
      "    },\n",
      "    \"Claims\": {\n",
      "        \"C1\": \"through cooperation, children can learn about interpersonal skills which are significant in the future life of all students\",\n",
      "        \"C2\": \"competition makes the society more effective\",\n",
      "        \"C3\": \"without the cooperation, there would be no victory of competition\"\n",
      "    },\n",
      "    \"Premises\": {\n",
      "        \"P1\": \"What we acquired from team work is not only how to achieve the same goal with others but more importantly, how to get along with others\",\n",
      "        \"P2\": \"During the process of cooperation, children can learn about how to listen to opinions of others, how to communicate with others, how to think comprehensively, and even how to compromise with other team members when conflicts occurred\",\n",
      "        \"P3\": \"All of these skills help them to get on well with other people and will benefit them for the whole life\",\n",
      "        \"P4\": \"the significance of competition is that how to become more excellence to gain the victory\",\n",
      "        \"P5\": \"when we consider about the question that how to win the game, we always find that we need the cooperation\",\n",
      "        \"P6\": \"Take Olympic games which is a form of competition for instance, it is hard to imagine how an athlete could win the game without the training of his or her coach, and the help of other professional staffs such as the people who take care of his diet, and those who are in charge of the medical care\"\n",
      "    },\n",
      "    \"ArgumentativeRelations\": [\n",
      "        {\n",
      "            \"start\": \"C1\",\n",
      "            \"Relation\": \"For\",\n",
      "            \"target\": \"MC\"\n",
      "        },\n",
      "        {\n",
      "            \"start\": \"P1\",\n",
      "            \"Relation\": \"supports\",\n",
      "            \"target\": \"C1\"\n",
      "        },\n",
      "        {\n",
      "            \"start\": \"P2\",\n",
      "            \"Relation\": \"supports\",\n",
      "            \"target\": \"C1\"\n",
      "        },\n",
      "        {\n",
      "            \"start\": \"P3\",\n",
      "            \"Relation\": \"supports\",\n",
      "            \"target\": \"C1\"\n",
      "        },\n",
      "        {\n",
      "            \"start\": \"C2\",\n",
      "            \"Relation\": \"Against\",\n",
      "            \"target\": \"MC\"\n",
      "        },\n",
      "        {\n",
      "            \"start\": \"C3\",\n",
      "            \"Relation\": \"For\",\n",
      "            \"target\": \"MC\"\n",
      "        },\n",
      "        {\n",
      "            \"start\": \"P6\",\n",
      "            \"Relation\": \"supports\",\n",
      "            \"target\": \"C3\"\n",
      "        },\n",
      "        {\n",
      "            \"start\": \"P5\",\n",
      "            \"Relation\": \"supports\",\n",
      "            \"target\": \"C3\"\n",
      "        },\n",
      "        {\n",
      "            \"start\": \"P4\",\n",
      "            \"Relation\": \"supports\",\n",
      "            \"target\": \"C2\"\n",
      "        }\n",
      "    ]\n",
      "}\n"
     ]
    }
   ],
   "source": [
    "print(load_text(transformed_json_files[0]))"
   ]
  },
  {
   "cell_type": "markdown",
   "metadata": {},
   "source": [
    "# JSON zu Pandas Dataframe "
   ]
  },
  {
   "cell_type": "code",
   "execution_count": 25,
   "metadata": {},
   "outputs": [
    {
     "data": {
      "text/html": [
       "<div>\n",
       "<style scoped>\n",
       "    .dataframe tbody tr th:only-of-type {\n",
       "        vertical-align: middle;\n",
       "    }\n",
       "\n",
       "    .dataframe tbody tr th {\n",
       "        vertical-align: top;\n",
       "    }\n",
       "\n",
       "    .dataframe thead th {\n",
       "        text-align: right;\n",
       "    }\n",
       "</style>\n",
       "<table border=\"1\" class=\"dataframe\">\n",
       "  <thead>\n",
       "    <tr style=\"text-align: right;\">\n",
       "      <th></th>\n",
       "      <th>ID</th>\n",
       "      <th>MajorClaim</th>\n",
       "      <th>Type</th>\n",
       "      <th>Claim</th>\n",
       "      <th>Premise</th>\n",
       "    </tr>\n",
       "  </thead>\n",
       "  <tbody>\n",
       "    <tr>\n",
       "      <th>0</th>\n",
       "      <td>MC1</td>\n",
       "      <td>we should attach more importance to cooperatio...</td>\n",
       "      <td>MajorClaim</td>\n",
       "      <td>NaN</td>\n",
       "      <td>NaN</td>\n",
       "    </tr>\n",
       "    <tr>\n",
       "      <th>1</th>\n",
       "      <td>MC2</td>\n",
       "      <td>a more cooperative attitudes towards life is m...</td>\n",
       "      <td>MajorClaim</td>\n",
       "      <td>NaN</td>\n",
       "      <td>NaN</td>\n",
       "    </tr>\n",
       "    <tr>\n",
       "      <th>2</th>\n",
       "      <td>C1</td>\n",
       "      <td>NaN</td>\n",
       "      <td>Claim</td>\n",
       "      <td>through cooperation, children can learn about ...</td>\n",
       "      <td>NaN</td>\n",
       "    </tr>\n",
       "    <tr>\n",
       "      <th>3</th>\n",
       "      <td>C2</td>\n",
       "      <td>NaN</td>\n",
       "      <td>Claim</td>\n",
       "      <td>competition makes the society more effective</td>\n",
       "      <td>NaN</td>\n",
       "    </tr>\n",
       "    <tr>\n",
       "      <th>4</th>\n",
       "      <td>C3</td>\n",
       "      <td>NaN</td>\n",
       "      <td>Claim</td>\n",
       "      <td>without the cooperation, there would be no vic...</td>\n",
       "      <td>NaN</td>\n",
       "    </tr>\n",
       "  </tbody>\n",
       "</table>\n",
       "</div>"
      ],
      "text/plain": [
       "    ID                                         MajorClaim        Type  \\\n",
       "0  MC1  we should attach more importance to cooperatio...  MajorClaim   \n",
       "1  MC2  a more cooperative attitudes towards life is m...  MajorClaim   \n",
       "2   C1                                                NaN       Claim   \n",
       "3   C2                                                NaN       Claim   \n",
       "4   C3                                                NaN       Claim   \n",
       "\n",
       "                                               Claim Premise  \n",
       "0                                                NaN     NaN  \n",
       "1                                                NaN     NaN  \n",
       "2  through cooperation, children can learn about ...     NaN  \n",
       "3       competition makes the society more effective     NaN  \n",
       "4  without the cooperation, there would be no vic...     NaN  "
      ]
     },
     "execution_count": 25,
     "metadata": {},
     "output_type": "execute_result"
    }
   ],
   "source": [
    "# transform json data to dataframe\n",
    "\n",
    "def json_to_dataframe(json_data):\n",
    "    data = json.loads(json_data)\n",
    "    # Create a DataFrame for MajorClaims\n",
    "    major_claims_df = pd.DataFrame(data[\"MajorClaims\"].items(), columns=[\"ID\", \"MajorClaim\"])\n",
    "    major_claims_df[\"Type\"] = \"MajorClaim\"\n",
    "    # Create a DataFrame for Claims\n",
    "    claims_df = pd.DataFrame(data[\"Claims\"].items(), columns=[\"ID\", \"Claim\"])\n",
    "    claims_df[\"Type\"] = \"Claim\"\n",
    "    # Create a DataFrame for Premises\n",
    "    premises_df = pd.DataFrame(data[\"Premises\"].items(), columns=[\"ID\", \"Premise\"])\n",
    "    premises_df[\"Type\"] = \"Premise\"\n",
    "    # Combine all DataFrames\n",
    "    df = pd.concat([major_claims_df, claims_df, premises_df], ignore_index=True)\n",
    "    # Create a DataFrame for ArgumentativeRelations\n",
    "    relations_df = pd.DataFrame(data[\"ArgumentativeRelations\"])\n",
    "    return df, relations_df\n",
    "\n",
    "# Example usage\n",
    "json_data = load_text(transformed_json_files[0])\n",
    "df, relations_df = json_to_dataframe(json_data)\n",
    "df.head()"
   ]
  },
  {
   "cell_type": "code",
   "execution_count": 26,
   "metadata": {},
   "outputs": [
    {
     "data": {
      "text/html": [
       "<div>\n",
       "<style scoped>\n",
       "    .dataframe tbody tr th:only-of-type {\n",
       "        vertical-align: middle;\n",
       "    }\n",
       "\n",
       "    .dataframe tbody tr th {\n",
       "        vertical-align: top;\n",
       "    }\n",
       "\n",
       "    .dataframe thead th {\n",
       "        text-align: right;\n",
       "    }\n",
       "</style>\n",
       "<table border=\"1\" class=\"dataframe\">\n",
       "  <thead>\n",
       "    <tr style=\"text-align: right;\">\n",
       "      <th></th>\n",
       "      <th>start</th>\n",
       "      <th>Relation</th>\n",
       "      <th>target</th>\n",
       "    </tr>\n",
       "  </thead>\n",
       "  <tbody>\n",
       "    <tr>\n",
       "      <th>0</th>\n",
       "      <td>C1</td>\n",
       "      <td>For</td>\n",
       "      <td>MC</td>\n",
       "    </tr>\n",
       "    <tr>\n",
       "      <th>1</th>\n",
       "      <td>P1</td>\n",
       "      <td>supports</td>\n",
       "      <td>C1</td>\n",
       "    </tr>\n",
       "    <tr>\n",
       "      <th>2</th>\n",
       "      <td>P2</td>\n",
       "      <td>supports</td>\n",
       "      <td>C1</td>\n",
       "    </tr>\n",
       "    <tr>\n",
       "      <th>3</th>\n",
       "      <td>P3</td>\n",
       "      <td>supports</td>\n",
       "      <td>C1</td>\n",
       "    </tr>\n",
       "    <tr>\n",
       "      <th>4</th>\n",
       "      <td>C2</td>\n",
       "      <td>Against</td>\n",
       "      <td>MC</td>\n",
       "    </tr>\n",
       "  </tbody>\n",
       "</table>\n",
       "</div>"
      ],
      "text/plain": [
       "  start  Relation target\n",
       "0    C1       For     MC\n",
       "1    P1  supports     C1\n",
       "2    P2  supports     C1\n",
       "3    P3  supports     C1\n",
       "4    C2   Against     MC"
      ]
     },
     "execution_count": 26,
     "metadata": {},
     "output_type": "execute_result"
    }
   ],
   "source": [
    "relations_df.head()"
   ]
  }
 ],
 "metadata": {
  "kernelspec": {
   "display_name": "llm",
   "language": "python",
   "name": "python3"
  },
  "language_info": {
   "codemirror_mode": {
    "name": "ipython",
    "version": 3
   },
   "file_extension": ".py",
   "mimetype": "text/x-python",
   "name": "python",
   "nbconvert_exporter": "python",
   "pygments_lexer": "ipython3",
   "version": "3.12.6"
  }
 },
 "nbformat": 4,
 "nbformat_minor": 2
}
